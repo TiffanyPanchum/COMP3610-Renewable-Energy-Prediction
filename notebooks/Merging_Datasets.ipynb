{
 "cells": [
  {
   "cell_type": "code",
   "execution_count": 13,
   "metadata": {},
   "outputs": [],
   "source": [
    "import pandas as pd\n",
    "from datetime import datetime"
   ]
  },
  {
   "cell_type": "code",
   "execution_count": 14,
   "metadata": {},
   "outputs": [],
   "source": [
    "# Define file paths\n",
    "data_dir = '/workspace/COMP3610-Renewable-Energy-Prediction/data/processed/'"
   ]
  },
  {
   "cell_type": "code",
   "execution_count": 15,
   "metadata": {},
   "outputs": [
    {
     "name": "stdout",
     "output_type": "stream",
     "text": [
      "Loading cleaned datasets...\n"
     ]
    }
   ],
   "source": [
    "# Load all cleaned datasets\n",
    "print(\"Loading cleaned datasets...\")\n",
    "\n",
    "# Power Generation Data\n",
    "fr_power = pd.read_csv(f\"{data_dir}France_Power_Generation_Cleaned.csv\")\n",
    "it_power = pd.read_csv(f\"{data_dir}Italy_Power_Generation_Cleaned.csv\")\n",
    "es_power = pd.read_csv(f\"{data_dir}Spain_Power_Generation_Cleaned.csv\")\n",
    "\n",
    "# Weather Data\n",
    "fr_weather = pd.read_csv(f\"{data_dir}weather_data_france_cleaned.csv\")\n",
    "it_weather = pd.read_csv(f\"{data_dir}weather_data_italy_cleaned.csv\")\n",
    "es_weather = pd.read_csv(f\"{data_dir}weather_data_spain_cleaned.csv\")\n"
   ]
  },
  {
   "cell_type": "code",
   "execution_count": 16,
   "metadata": {},
   "outputs": [],
   "source": [
    "def join_datasets(power_df, weather_df, country_name):\n",
    "    \"\"\"\n",
    "    Join power generation data with weather data for a specific country\n",
    "    \n",
    "    Args:\n",
    "        power_df: Cleaned power generation DataFrame\n",
    "        weather_df: Cleaned weather DataFrame\n",
    "        country_name: Name of the country\n",
    "        \n",
    "    Returns:\n",
    "        pd.DataFrame: Joined dataset\n",
    "    \"\"\"\n",
    "    print(f\"\\nJoining {country_name} datasets...\")\n",
    "    \n",
    "    # Convert time columns to datetime\n",
    "    power_df['time'] = pd.to_datetime(power_df['MTU'].str.split(' - ').str[0], format='%d.%m.%Y %H:%M')\n",
    "    weather_df['time'] = pd.to_datetime(weather_df['time'])\n",
    "    \n",
    "    # Merge on time (inner join to ensure we only keep matching timestamps)\n",
    "    merged_df = pd.merge(\n",
    "        power_df,\n",
    "        weather_df,\n",
    "        on='time',\n",
    "        how='inner',\n",
    "        suffixes=('', '_weather')\n",
    "    )\n",
    "    \n",
    "    # Clean up columns\n",
    "    merged_df = merged_df.drop(columns=['MTU', 'country'])  # Remove redundant columns\n",
    "    \n",
    "    # Add country identifier back\n",
    "    merged_df['country'] = country_name\n",
    "    \n",
    "    print(f\"Joined {country_name} dataset shape:\", merged_df.shape)\n",
    "    print(\"Sample of joined data:\")\n",
    "    print(merged_df.head(2))\n",
    "    \n",
    "    return merged_df\n",
    "\n"
   ]
  },
  {
   "cell_type": "code",
   "execution_count": 17,
   "metadata": {},
   "outputs": [
    {
     "name": "stdout",
     "output_type": "stream",
     "text": [
      "\n",
      "Joining France datasets...\n",
      "Joined France dataset shape: (59070, 13)\n",
      "Sample of joined data:\n",
      "          Area  YEAR  Solar  Wind Onshore Country                time  temp  \\\n",
      "0  France (FR)  2016    0.0        2189.0  France 2016-01-01 00:00:00   8.2   \n",
      "1  France (FR)  2016    0.0        1753.0  France 2016-01-01 01:00:00   7.9   \n",
      "\n",
      "   dwpt  rhum  prcp  wspd    pres country  \n",
      "0   5.3  82.0   0.0   9.4  1024.6  France  \n",
      "1   5.2  83.0   0.0   5.4  1024.8  France  \n",
      "\n",
      "Joining Italy datasets...\n",
      "Joined Italy dataset shape: (59070, 13)\n",
      "Sample of joined data:\n",
      "         Area  YEAR  Solar  Wind Onshore Country                time  temp  \\\n",
      "0  Italy (IT)  2016    0.0         203.0   Italy 2016-01-01 00:00:00   6.0   \n",
      "1  Italy (IT)  2016    1.0         218.0   Italy 2016-01-01 01:00:00   6.0   \n",
      "\n",
      "   dwpt  rhum  prcp  wspd    pres country  \n",
      "0   3.0  81.0   0.0   7.0  1026.0   Italy  \n",
      "1   3.0  81.0   0.0   7.0  1026.0   Italy  \n",
      "\n",
      "Joining Spain datasets...\n",
      "Joined Spain dataset shape: (59070, 13)\n",
      "Sample of joined data:\n",
      "         Area  YEAR  Solar  Wind Onshore Country                time  temp  \\\n",
      "0  Spain (ES)  2016   20.0        3055.0   Spain 2016-01-01 00:00:00  11.4   \n",
      "1  Spain (ES)  2016   20.0        3333.0   Spain 2016-01-01 01:00:00  11.7   \n",
      "\n",
      "   dwpt  rhum  prcp  wspd    pres country  \n",
      "0  10.6  95.0   0.0  11.2  1025.2   Spain  \n",
      "1  10.9  95.0   0.0   9.4  1024.8   Spain  \n"
     ]
    }
   ],
   "source": [
    "# Join datasets for each country\n",
    "fr_combined = join_datasets(fr_power, fr_weather, 'France')\n",
    "it_combined = join_datasets(it_power, it_weather, 'Italy')\n",
    "es_combined = join_datasets(es_power, es_weather, 'Spain')"
   ]
  },
  {
   "cell_type": "code",
   "execution_count": 18,
   "metadata": {},
   "outputs": [],
   "source": [
    "# Combine all countries\n",
    "final_combined = pd.concat([fr_combined, it_combined, es_combined])"
   ]
  },
  {
   "cell_type": "code",
   "execution_count": 19,
   "metadata": {},
   "outputs": [
    {
     "name": "stdout",
     "output_type": "stream",
     "text": [
      "\n",
      "Final combined dataset saved to: /workspace/COMP3610-Renewable-Energy-Prediction/data/processed/final_combined_dataset.csv\n",
      "\n",
      "Final dataset info:\n",
      "<class 'pandas.core.frame.DataFrame'>\n",
      "Index: 177210 entries, 0 to 59069\n",
      "Data columns (total 13 columns):\n",
      " #   Column        Non-Null Count   Dtype         \n",
      "---  ------        --------------   -----         \n",
      " 0   Area          177210 non-null  object        \n",
      " 1   YEAR          177210 non-null  int64         \n",
      " 2   Solar         177210 non-null  float64       \n",
      " 3   Wind Onshore  177210 non-null  float64       \n",
      " 4   Country       177210 non-null  object        \n",
      " 5   time          177210 non-null  datetime64[ns]\n",
      " 6   temp          177210 non-null  float64       \n",
      " 7   dwpt          177210 non-null  float64       \n",
      " 8   rhum          177210 non-null  float64       \n",
      " 9   prcp          177210 non-null  float64       \n",
      " 10  wspd          177210 non-null  float64       \n",
      " 11  pres          177210 non-null  float64       \n",
      " 12  country       177210 non-null  object        \n",
      "dtypes: datetime64[ns](1), float64(8), int64(1), object(3)\n",
      "memory usage: 18.9+ MB\n",
      "None\n",
      "\n",
      "Count by country:\n",
      "country\n",
      "France    59070\n",
      "Italy     59070\n",
      "Spain     59070\n",
      "Name: count, dtype: int64\n"
     ]
    }
   ],
   "source": [
    "# Save results\n",
    "final_combined.to_csv(f\"{data_dir}final_combined_dataset.csv\", index=False)\n",
    "print(\"\\nFinal combined dataset saved to:\", f\"{data_dir}final_combined_dataset.csv\")\n",
    "\n",
    "# Verify the final dataset\n",
    "print(\"\\nFinal dataset info:\")\n",
    "print(final_combined.info())\n",
    "print(\"\\nCount by country:\")\n",
    "print(final_combined['country'].value_counts())"
   ]
  }
 ],
 "metadata": {
  "kernelspec": {
   "display_name": "Python 3",
   "language": "python",
   "name": "python3"
  },
  "language_info": {
   "codemirror_mode": {
    "name": "ipython",
    "version": 3
   },
   "file_extension": ".py",
   "mimetype": "text/x-python",
   "name": "python",
   "nbconvert_exporter": "python",
   "pygments_lexer": "ipython3",
   "version": "3.12.9"
  }
 },
 "nbformat": 4,
 "nbformat_minor": 2
}
