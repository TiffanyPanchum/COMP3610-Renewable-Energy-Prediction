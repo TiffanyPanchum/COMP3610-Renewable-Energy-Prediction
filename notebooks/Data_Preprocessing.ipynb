{
 "cells": [
  {
   "cell_type": "code",
   "execution_count": 2,
   "metadata": {},
   "outputs": [],
   "source": [
    "import os\n",
    "import pandas as pd\n",
    "import numpy as np\n",
    "from datetime import datetime"
   ]
  },
  {
   "cell_type": "code",
   "execution_count": 3,
   "metadata": {},
   "outputs": [],
   "source": [
    "# Directory setup\n",
    "raw_dir = '/workspace/COMP3610-Renewable-Energy-Prediction/data/raw'\n",
    "processed_dir = '/workspace/COMP3610-Renewable-Energy-Prediction/data/processed'\n",
    "os.makedirs(processed_dir, exist_ok=True)"
   ]
  },
  {
   "cell_type": "code",
   "execution_count": 4,
   "metadata": {},
   "outputs": [],
   "source": [
    "def load_country_data(country):\n",
    "    \"\"\"Load raw data for a specific country\"\"\"\n",
    "    file_path = f'{raw_dir}/{country}_Power_Generation.csv'\n",
    "    df = pd.read_csv(file_path)\n",
    "    print(f\"Loaded {country} data with shape: {df.shape}\")\n",
    "    return df"
   ]
  },
  {
   "cell_type": "code",
   "execution_count": 5,
   "metadata": {},
   "outputs": [],
   "source": [
    "def clean_france_data(df):\n",
    "    \"\"\"Clean and process France data\"\"\"\n",
    "    # Convert 'n/e' to NaN for object columns\n",
    "    object_cols = df.select_dtypes(include='object').columns[4:]  # Skip Area, MTU, DATETIME, YEAR\n",
    "    df[object_cols] = df[object_cols].replace('n/e', np.nan)\n",
    "    \n",
    "    # Convert datetime and set as index for time-based operations\n",
    "    df['DATETIME'] = pd.to_datetime(df['DATETIME'], format='%d.%m.%Y %H:%M')\n",
    "    df = df.set_index('DATETIME')\n",
    "    \n",
    "    # Convert numeric columns that are stored as objects\n",
    "    for col in object_cols:\n",
    "        try:\n",
    "            df[col] = pd.to_numeric(df[col])\n",
    "        except:\n",
    "            df = df.drop(col, axis=1)\n",
    "    \n",
    "    # Handle missing values\n",
    "    # Solar - Actual Aggregated [MW] (68 missing values out of 67831 ~ 0.1%)\n",
    "    if df['Solar  - Actual Aggregated [MW]'].isnull().sum() > 0:\n",
    "        # Time-based interpolation for solar (follows daily patterns)\n",
    "        df['Solar  - Actual Aggregated [MW]'] = df['Solar  - Actual Aggregated [MW]'].interpolate(method='time')\n",
    "    \n",
    "    # Wind Onshore - Actual Aggregated [MW] (82 missing values out of 67831 ~ 0.12%)\n",
    "    if df['Wind Onshore  - Actual Aggregated [MW]'].isnull().sum() > 0:\n",
    "        # Time-based interpolation for wind (follows weather patterns)\n",
    "        df['Wind Onshore  - Actual Aggregated [MW]'] = df['Wind Onshore  - Actual Aggregated [MW]'].interpolate(method='time')\n",
    "    \n",
    "    # Feature engineering\n",
    "    df['hour'] = df.index.hour\n",
    "    df['day_of_week'] = df.index.dayofweek\n",
    "    df['month'] = df.index.month\n",
    "    \n",
    "    # Select and keep only the required columns\n",
    "    columns_to_keep = [\n",
    "        \"Area\", \"MTU\", \"YEAR\", \n",
    "        \"Solar  - Actual Aggregated [MW]\", \n",
    "        \"Wind Onshore  - Actual Aggregated [MW]\"\n",
    "    ]\n",
    "    \n",
    "    # Reset index to keep DATETIME as column\n",
    "    df = df.reset_index()\n",
    "    df = df[columns_to_keep]\n",
    "    \n",
    "    return df\n",
    "\n"
   ]
  },
  {
   "cell_type": "code",
   "execution_count": 6,
   "metadata": {},
   "outputs": [],
   "source": [
    "def clean_italy_data(df):\n",
    "    \"\"\"Clean and process Italy data\"\"\"\n",
    "    # Convert 'n/e' to NaN\n",
    "    object_cols = df.select_dtypes(include='object').columns[4:]\n",
    "    df[object_cols] = df[object_cols].replace('n/e', np.nan)\n",
    "    \n",
    "    # Drop Nuclear column (all 'n/e')\n",
    "    if 'Nuclear  - Actual Aggregated [MW]' in df.columns:\n",
    "        df = df.drop('Nuclear  - Actual Aggregated [MW]', axis=1)\n",
    "    \n",
    "    # Convert datetime\n",
    "    df['DATETIME'] = pd.to_datetime(df['DATETIME'], format='%d.%m.%Y %H:%M')\n",
    "    df = df.set_index('DATETIME')\n",
    "    \n",
    "    # Handle missing values\n",
    "    # Solar - Actual Aggregated [MW] (68 missing values out of 67831 ~ 0.1%)\n",
    "    if df['Solar  - Actual Aggregated [MW]'].isnull().sum() > 0:\n",
    "        # Time-based interpolation for solar (follows daily patterns)\n",
    "        df['Solar  - Actual Aggregated [MW]'] = df['Solar  - Actual Aggregated [MW]'].interpolate(method='time')\n",
    "    \n",
    "    # Wind Onshore - Actual Aggregated [MW] (82 missing values out of 67831 ~ 0.12%)\n",
    "    if df['Wind Onshore  - Actual Aggregated [MW]'].isnull().sum() > 0:\n",
    "        # Time-based interpolation for wind (follows weather patterns)\n",
    "        df['Wind Onshore  - Actual Aggregated [MW]'] = df['Wind Onshore  - Actual Aggregated [MW]'].interpolate(method='time')\n",
    "    \n",
    "    # Fill high missingness columns\n",
    "    if 'Hydro Pumped Storage  - Actual Consumption [MW]' in df.columns:\n",
    "        df['Hydro Pumped Storage  - Actual Consumption [MW]'] = df['Hydro Pumped Storage  - Actual Consumption [MW]'].fillna(0)\n",
    "    \n",
    "    # Feature engineering\n",
    "    df['hour'] = df.index.hour\n",
    "    \n",
    "    # Select and keep only the required columns\n",
    "    columns_to_keep = [\n",
    "        \"Area\", \"MTU\", \"YEAR\", \n",
    "        \"Solar  - Actual Aggregated [MW]\",  \n",
    "        \"Wind Onshore  - Actual Aggregated [MW]\"\n",
    "    ]\n",
    "    \n",
    "    # Reset index to keep DATETIME as column\n",
    "    df = df.reset_index()\n",
    "    df = df[columns_to_keep]\n",
    "    \n",
    "    return df\n",
    "\n"
   ]
  },
  {
   "cell_type": "code",
   "execution_count": 7,
   "metadata": {},
   "outputs": [],
   "source": [
    "def clean_spain_data(df):\n",
    "    \"\"\"Clean and process Spain data\"\"\"\n",
    "    # Convert datetime\n",
    "    df['DATETIME'] = pd.to_datetime(df['DATETIME'], format='%d.%m.%Y %H:%M')\n",
    "    df = df.set_index('DATETIME')\n",
    "    \n",
    "    # Handle missing values\n",
    "    # Solar - Actual Aggregated [MW] (68 missing values out of 67831 ~ 0.1%)\n",
    "    if df['Solar  - Actual Aggregated [MW]'].isnull().sum() > 0:\n",
    "        # Time-based interpolation for solar (follows daily patterns)\n",
    "        df['Solar  - Actual Aggregated [MW]'] = df['Solar  - Actual Aggregated [MW]'].interpolate(method='time')\n",
    "    \n",
    "    # Wind Onshore - Actual Aggregated [MW] (82 missing values out of 67831 ~ 0.12%)\n",
    "    if df['Wind Onshore  - Actual Aggregated [MW]'].isnull().sum() > 0:\n",
    "        # Time-based interpolation for wind (follows weather patterns)\n",
    "        df['Wind Onshore  - Actual Aggregated [MW]'] = df['Wind Onshore  - Actual Aggregated [MW]'].interpolate(method='time')\n",
    "    \n",
    "    # Feature engineering\n",
    "    df['hour'] = df.index.hour\n",
    "    \n",
    "    # Select and keep only the required columns\n",
    "    columns_to_keep = [\n",
    "        \"Area\", \"MTU\", \"YEAR\", \n",
    "        \"Solar  - Actual Aggregated [MW]\", \n",
    "        \"Wind Onshore  - Actual Aggregated [MW]\"\n",
    "    ]\n",
    "    \n",
    "    # Reset index to keep DATETIME as column\n",
    "    df = df.reset_index()\n",
    "    df = df[columns_to_keep]\n",
    "    \n",
    "    return df\n",
    "\n"
   ]
  },
  {
   "cell_type": "code",
   "execution_count": 8,
   "metadata": {},
   "outputs": [],
   "source": [
    "def post_cleaning_processing(df, country):\n",
    "    \"\"\"Common post-processing steps for all countries\"\"\"\n",
    "    # Standardize column names\n",
    "    df.columns = df.columns.str.replace(' - Actual Aggregated \\[MW\\]', '', regex=True)\n",
    "    df.columns = df.columns.str.strip()\n",
    "    \n",
    "    # Add country identifier\n",
    "    df['Country'] = country\n",
    "    \n",
    "    return df\n",
    "\n"
   ]
  },
  {
   "cell_type": "code",
   "execution_count": 9,
   "metadata": {},
   "outputs": [
    {
     "name": "stdout",
     "output_type": "stream",
     "text": [
      "\n",
      "Processing France data...\n",
      "Loaded France data with shape: (67831, 25)\n"
     ]
    },
    {
     "name": "stderr",
     "output_type": "stream",
     "text": [
      "/tmp/ipykernel_1876/3584477552.py:5: FutureWarning: Downcasting behavior in `replace` is deprecated and will be removed in a future version. To retain the old behavior, explicitly call `result.infer_objects(copy=False)`. To opt-in to the future behavior, set `pd.set_option('future.no_silent_downcasting', True)`\n",
      "  df[object_cols] = df[object_cols].replace('n/e', np.nan)\n"
     ]
    },
    {
     "name": "stdout",
     "output_type": "stream",
     "text": [
      "Saved cleaned data to /workspace/COMP3610-Renewable-Energy-Prediction/data/processed/France_Power_Generation_Cleaned.csv\n",
      "\n",
      "Processing Italy data...\n",
      "Loaded Italy data with shape: (59070, 25)\n"
     ]
    },
    {
     "name": "stderr",
     "output_type": "stream",
     "text": [
      "/tmp/ipykernel_1876/1995150020.py:5: FutureWarning: Downcasting behavior in `replace` is deprecated and will be removed in a future version. To retain the old behavior, explicitly call `result.infer_objects(copy=False)`. To opt-in to the future behavior, set `pd.set_option('future.no_silent_downcasting', True)`\n",
      "  df[object_cols] = df[object_cols].replace('n/e', np.nan)\n"
     ]
    },
    {
     "name": "stdout",
     "output_type": "stream",
     "text": [
      "Saved cleaned data to /workspace/COMP3610-Renewable-Energy-Prediction/data/processed/Italy_Power_Generation_Cleaned.csv\n",
      "\n",
      "Processing Spain data...\n",
      "Loaded Spain data with shape: (76969, 25)\n",
      "Saved cleaned data to /workspace/COMP3610-Renewable-Energy-Prediction/data/processed/Spain_Power_Generation_Cleaned.csv\n"
     ]
    }
   ],
   "source": [
    "# Main processing pipeline\n",
    "countries = ['France', 'Italy', 'Spain']\n",
    "cleaned_data = {}\n",
    "\n",
    "for country in countries:\n",
    "    print(f\"\\nProcessing {country} data...\")\n",
    "    \n",
    "    try:\n",
    "        # Load raw data\n",
    "        raw_df = load_country_data(country)\n",
    "        \n",
    "        # Clean data using the appropriate function\n",
    "        if country == 'France':\n",
    "            cleaned_df = clean_france_data(raw_df)\n",
    "        elif country == 'Italy':\n",
    "            cleaned_df = clean_italy_data(raw_df)\n",
    "        elif country == 'Spain':\n",
    "            cleaned_df = clean_spain_data(raw_df)\n",
    "        \n",
    "        # Apply common post-cleaning processing\n",
    "        cleaned_df = post_cleaning_processing(cleaned_df, country)\n",
    "        \n",
    "        # Save to dictionary\n",
    "        cleaned_data[country] = cleaned_df\n",
    "        \n",
    "        # Save to processed folder\n",
    "        output_path = f'{processed_dir}/{country}_Power_Generation_Cleaned.csv'\n",
    "        cleaned_df.to_csv(output_path, index=False)\n",
    "        print(f\"Saved cleaned data to {output_path}\")\n",
    "        \n",
    "    except Exception as e:\n",
    "        print(f\"Error processing {country}: {str(e)}\")\n",
    "        continue\n",
    "\n"
   ]
  },
  {
   "cell_type": "code",
   "execution_count": 10,
   "metadata": {},
   "outputs": [
    {
     "name": "stdout",
     "output_type": "stream",
     "text": [
      "\n",
      "Saved combined cleaned data to /workspace/COMP3610-Renewable-Energy-Prediction/data/processed/All_Countries_Power_Generation_Cleaned.csv\n"
     ]
    }
   ],
   "source": [
    "# Combine all countries if all processed successfully\n",
    "if len(cleaned_data) == len(countries):\n",
    "    combined_df = pd.concat(cleaned_data.values())\n",
    "    combined_output_path = f'{processed_dir}/All_Countries_Power_Generation_Cleaned.csv'\n",
    "    combined_df.to_csv(combined_output_path, index=False)\n",
    "    print(f\"\\nSaved combined cleaned data to {combined_output_path}\")\n",
    "else:\n",
    "    print(\"\\nWarning: Not all countries processed successfully - skipping combined file\")"
   ]
  }
 ],
 "metadata": {
  "kernelspec": {
   "display_name": "Python 3",
   "language": "python",
   "name": "python3"
  },
  "language_info": {
   "codemirror_mode": {
    "name": "ipython",
    "version": 3
   },
   "file_extension": ".py",
   "mimetype": "text/x-python",
   "name": "python",
   "nbconvert_exporter": "python",
   "pygments_lexer": "ipython3",
   "version": "3.12.9"
  }
 },
 "nbformat": 4,
 "nbformat_minor": 2
}
