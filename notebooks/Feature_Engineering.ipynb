{
 "cells": [
  {
   "cell_type": "code",
   "execution_count": 2,
   "metadata": {},
   "outputs": [],
   "source": [
    "# Feature Engineering Pipeline\n",
    "import pandas as pd\n",
    "import numpy as np\n",
    "from sklearn.preprocessing import StandardScaler\n",
    "import joblib"
   ]
  },
  {
   "cell_type": "code",
   "execution_count": 3,
   "metadata": {},
   "outputs": [],
   "source": [
    "# Load cleaned dataset\n",
    "df = pd.read_csv('/workspace/COMP3610-Renewable-Energy-Prediction/data/processed/final_combined_dataset.csv', parse_dates=['time'])"
   ]
  },
  {
   "cell_type": "code",
   "execution_count": 4,
   "metadata": {},
   "outputs": [],
   "source": [
    "def create_features(df):\n",
    "    \"\"\"Create time-series features from datetime index\"\"\"\n",
    "    \n",
    "    # Temporal Features\n",
    "    df['hour'] = df['time'].dt.hour\n",
    "    df['day_of_week'] = df['time'].dt.dayofweek\n",
    "    df['day_of_year'] = df['time'].dt.dayofyear\n",
    "    df['month'] = df['time'].dt.month\n",
    "    df['quarter'] = df['time'].dt.quarter\n",
    "    \n",
    "    # Cyclical Encoding for temporal features\n",
    "    def cyclical_encode(df, col, max_val):\n",
    "        df[col + '_sin'] = np.sin(2 * np.pi * df[col]/max_val)\n",
    "        df[col + '_cos'] = np.cos(2 * np.pi * df[col]/max_val)\n",
    "        return df\n",
    "    \n",
    "    df = cyclical_encode(df, 'hour', 24)\n",
    "    df = cyclical_encode(df, 'day_of_week', 7)\n",
    "    df = cyclical_encode(df, 'month', 12)\n",
    "    \n",
    "    # Seasonality\n",
    "    df['season'] = df['month'] % 12 // 3 + 1\n",
    "    \n",
    "    # Weather Features\n",
    "    df['temp_rhum_interaction'] = df['temp'] * df['rhum']  # Heat index proxy\n",
    "    df['wind_power_potential'] = df['wspd'] ** 3  # Wind power is proportional to cube of wind speed\n",
    "    \n",
    "    # Lag Features (previous time steps)\n",
    "    target_cols = ['Solar', 'Wind Onshore']\n",
    "    for col in target_cols:\n",
    "        for lag in [1, 2, 3, 24, 168]:  # 1h, 2h, 3h, 24h, 1 week lags\n",
    "            df[f'{col}_lag_{lag}'] = df.groupby('country')[col].shift(lag)\n",
    "    \n",
    "    # Rolling Statistics\n",
    "    for col in target_cols:\n",
    "        df[f'{col}_rolling_24h_mean'] = df.groupby('country')[col].rolling(24).mean().values\n",
    "        df[f'{col}_rolling_24h_std'] = df.groupby('country')[col].rolling(24).std().values\n",
    "    \n",
    "    # Country-specific features\n",
    "    df = pd.get_dummies(df, columns=['country', 'season'], drop_first=True)\n",
    "    \n",
    "    return df\n"
   ]
  },
  {
   "cell_type": "code",
   "execution_count": 5,
   "metadata": {},
   "outputs": [],
   "source": [
    "# Apply feature engineering\n",
    "df_featured = create_features(df)"
   ]
  },
  {
   "cell_type": "code",
   "execution_count": 7,
   "metadata": {},
   "outputs": [],
   "source": [
    "# Save engineered data to the specified processed directory\n",
    "df_featured.to_csv('/workspace/COMP3610-Renewable-Energy-Prediction/data/processed/feature_engineered_data.csv', index=False)"
   ]
  },
  {
   "cell_type": "code",
   "execution_count": 8,
   "metadata": {},
   "outputs": [],
   "source": [
    "# Define target columns upfront\n",
    "targets = ['Solar', 'Wind Onshore']"
   ]
  },
  {
   "cell_type": "code",
   "execution_count": 9,
   "metadata": {},
   "outputs": [
    {
     "name": "stdout",
     "output_type": "stream",
     "text": [
      "Feature engineering complete. Data saved to feature_engineered_data\n"
     ]
    }
   ],
   "source": [
    "# Save target columns and feature config\n",
    "joblib.dump({\n",
    "    'features': df_featured.drop(targets, axis=1).columns.tolist(),\n",
    "    'target_cols': targets\n",
    "}, '/workspace/COMP3610-Renewable-Energy-Prediction/models/data_config.pkl')\n",
    "\n",
    "print(\"Feature engineering complete. Data saved to feature_engineered_data\")"
   ]
  }
 ],
 "metadata": {
  "kernelspec": {
   "display_name": "Python 3",
   "language": "python",
   "name": "python3"
  },
  "language_info": {
   "codemirror_mode": {
    "name": "ipython",
    "version": 3
   },
   "file_extension": ".py",
   "mimetype": "text/x-python",
   "name": "python",
   "nbconvert_exporter": "python",
   "pygments_lexer": "ipython3",
   "version": "3.12.9"
  }
 },
 "nbformat": 4,
 "nbformat_minor": 2
}
