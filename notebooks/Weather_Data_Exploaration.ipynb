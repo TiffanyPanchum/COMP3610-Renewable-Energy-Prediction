{
 "cells": [
  {
   "cell_type": "code",
   "execution_count": 2,
   "metadata": {},
   "outputs": [],
   "source": [
    "import pandas as pd "
   ]
  },
  {
   "cell_type": "markdown",
   "metadata": {},
   "source": [
    "## Exploring Weather Data for France:"
   ]
  },
  {
   "cell_type": "code",
   "execution_count": 3,
   "metadata": {},
   "outputs": [],
   "source": [
    "df = pd.read_csv(\"/workspace/COMP3610-Renewable-Energy-Prediction/data/raw/weather_data_france.csv\")"
   ]
  },
  {
   "cell_type": "code",
   "execution_count": 4,
   "metadata": {},
   "outputs": [
    {
     "name": "stdout",
     "output_type": "stream",
     "text": [
      "<class 'pandas.core.frame.DataFrame'>\n",
      "RangeIndex: 61368 entries, 0 to 61367\n",
      "Data columns (total 12 columns):\n",
      " #   Column  Non-Null Count  Dtype  \n",
      "---  ------  --------------  -----  \n",
      " 0   time    61368 non-null  object \n",
      " 1   temp    60689 non-null  float64\n",
      " 2   dwpt    60675 non-null  float64\n",
      " 3   rhum    60677 non-null  float64\n",
      " 4   prcp    44060 non-null  float64\n",
      " 5   snow    0 non-null      float64\n",
      " 6   wdir    60309 non-null  float64\n",
      " 7   wspd    60433 non-null  float64\n",
      " 8   wpgt    0 non-null      float64\n",
      " 9   pres    60688 non-null  float64\n",
      " 10  tsun    0 non-null      float64\n",
      " 11  coco    4844 non-null   float64\n",
      "dtypes: float64(11), object(1)\n",
      "memory usage: 5.6+ MB\n"
     ]
    }
   ],
   "source": [
    "# Basic information about the dataset\n",
    "df.info()"
   ]
  },
  {
   "cell_type": "code",
   "execution_count": 5,
   "metadata": {},
   "outputs": [
    {
     "name": "stdout",
     "output_type": "stream",
     "text": [
      "                  time  temp  dwpt  rhum  prcp  snow   wdir  wspd  wpgt  \\\n",
      "0  2016-01-01 00:00:00   8.2   5.3  82.0   NaN   NaN  200.0   9.4   NaN   \n",
      "1  2016-01-01 01:00:00   7.9   5.2  83.0   0.0   NaN  180.0   5.4   NaN   \n",
      "2  2016-01-01 02:00:00   6.9   4.6  85.0   0.0   NaN  190.0   5.4   NaN   \n",
      "3  2016-01-01 03:00:00   6.3   4.9  91.0   NaN   NaN  160.0   5.4   NaN   \n",
      "4  2016-01-01 04:00:00   5.8   4.6  92.0   0.0   NaN  150.0   5.4   NaN   \n",
      "\n",
      "     pres  tsun  coco  \n",
      "0  1024.6   NaN   NaN  \n",
      "1  1024.8   NaN   NaN  \n",
      "2  1024.9   NaN   NaN  \n",
      "3  1025.1   NaN   NaN  \n",
      "4  1025.3   NaN   NaN  \n"
     ]
    }
   ],
   "source": [
    "# Display the first few rows to understand the structure\n",
    "print(df.head())"
   ]
  },
  {
   "cell_type": "code",
   "execution_count": 6,
   "metadata": {},
   "outputs": [
    {
     "name": "stdout",
     "output_type": "stream",
     "text": [
      "time     object\n",
      "temp    float64\n",
      "dwpt    float64\n",
      "rhum    float64\n",
      "prcp    float64\n",
      "snow    float64\n",
      "wdir    float64\n",
      "wspd    float64\n",
      "wpgt    float64\n",
      "pres    float64\n",
      "tsun    float64\n",
      "coco    float64\n",
      "dtype: object\n"
     ]
    }
   ],
   "source": [
    "# Check data types\n",
    "print(df.dtypes)"
   ]
  },
  {
   "cell_type": "code",
   "execution_count": 7,
   "metadata": {},
   "outputs": [
    {
     "name": "stdout",
     "output_type": "stream",
     "text": [
      "time        0\n",
      "temp      679\n",
      "dwpt      693\n",
      "rhum      691\n",
      "prcp    17308\n",
      "snow    61368\n",
      "wdir     1059\n",
      "wspd      935\n",
      "wpgt    61368\n",
      "pres      680\n",
      "tsun    61368\n",
      "coco    56524\n",
      "dtype: int64\n"
     ]
    }
   ],
   "source": [
    "# Check for missing values\n",
    "print(df.isnull().sum())"
   ]
  },
  {
   "cell_type": "code",
   "execution_count": 8,
   "metadata": {},
   "outputs": [
    {
     "name": "stdout",
     "output_type": "stream",
     "text": [
      "               temp          dwpt          rhum          prcp  snow  \\\n",
      "count  60689.000000  60675.000000  60677.000000  44060.000000   0.0   \n",
      "mean      13.283885      7.350070     70.069977      0.084328   NaN   \n",
      "std        7.157165      5.502811     17.176306      0.588919   NaN   \n",
      "min       -7.000000    -17.100000     15.000000      0.000000   NaN   \n",
      "25%        8.000000      3.500000     58.000000      0.000000   NaN   \n",
      "50%       12.700000      7.600000     73.000000      0.000000   NaN   \n",
      "75%       18.300000     11.600000     84.000000      0.000000   NaN   \n",
      "max       41.700000     23.300000    100.000000     49.000000   NaN   \n",
      "\n",
      "               wdir          wspd  wpgt          pres  tsun         coco  \n",
      "count  60309.000000  60433.000000   0.0  60688.000000   0.0  4844.000000  \n",
      "mean     188.906598     10.847368   NaN   1017.126066   NaN     3.022502  \n",
      "std      101.894435      5.046212   NaN      9.269022   NaN     2.453219  \n",
      "min        0.000000      0.000000   NaN    969.800000   NaN     1.000000  \n",
      "25%      100.000000      7.600000   NaN   1012.000000   NaN     2.000000  \n",
      "50%      200.000000      9.400000   NaN   1017.800000   NaN     3.000000  \n",
      "75%      270.000000     13.000000   NaN   1023.000000   NaN     3.000000  \n",
      "max      360.000000     44.600000   NaN   1047.800000   NaN    18.000000  \n"
     ]
    }
   ],
   "source": [
    "# Basic statistics for numerical columns\n",
    "print(df.describe())"
   ]
  },
  {
   "cell_type": "markdown",
   "metadata": {},
   "source": [
    "## Exploring Weather Data for Italy:"
   ]
  },
  {
   "cell_type": "code",
   "execution_count": 9,
   "metadata": {},
   "outputs": [],
   "source": [
    "df = pd.read_csv(\"/workspace/COMP3610-Renewable-Energy-Prediction/data/raw/weather_data_italy.csv\")"
   ]
  },
  {
   "cell_type": "code",
   "execution_count": 10,
   "metadata": {},
   "outputs": [
    {
     "name": "stdout",
     "output_type": "stream",
     "text": [
      "<class 'pandas.core.frame.DataFrame'>\n",
      "RangeIndex: 61368 entries, 0 to 61367\n",
      "Data columns (total 12 columns):\n",
      " #   Column  Non-Null Count  Dtype  \n",
      "---  ------  --------------  -----  \n",
      " 0   time    61368 non-null  object \n",
      " 1   temp    40004 non-null  float64\n",
      " 2   dwpt    39958 non-null  float64\n",
      " 3   rhum    39958 non-null  float64\n",
      " 4   prcp    17488 non-null  float64\n",
      " 5   snow    0 non-null      float64\n",
      " 6   wdir    33971 non-null  float64\n",
      " 7   wspd    39822 non-null  float64\n",
      " 8   wpgt    0 non-null      float64\n",
      " 9   pres    36713 non-null  float64\n",
      " 10  tsun    0 non-null      float64\n",
      " 11  coco    6585 non-null   float64\n",
      "dtypes: float64(11), object(1)\n",
      "memory usage: 5.6+ MB\n"
     ]
    }
   ],
   "source": [
    "# Basic information about the dataset\n",
    "df.info()"
   ]
  },
  {
   "cell_type": "code",
   "execution_count": 11,
   "metadata": {},
   "outputs": [
    {
     "name": "stdout",
     "output_type": "stream",
     "text": [
      "                  time  temp  dwpt  rhum  prcp  snow  wdir  wspd  wpgt  pres  \\\n",
      "0  2016-01-01 00:00:00   NaN   NaN   NaN   NaN   NaN   NaN   NaN   NaN   NaN   \n",
      "1  2016-01-01 01:00:00   NaN   NaN   NaN   NaN   NaN   NaN   NaN   NaN   NaN   \n",
      "2  2016-01-01 02:00:00   NaN   NaN   NaN   NaN   NaN   NaN   NaN   NaN   NaN   \n",
      "3  2016-01-01 03:00:00   NaN   NaN   NaN   NaN   NaN   NaN   NaN   NaN   NaN   \n",
      "4  2016-01-01 04:00:00   NaN   NaN   NaN   NaN   NaN   NaN   NaN   NaN   NaN   \n",
      "\n",
      "   tsun  coco  \n",
      "0   NaN   NaN  \n",
      "1   NaN   NaN  \n",
      "2   NaN   NaN  \n",
      "3   NaN   NaN  \n",
      "4   NaN   NaN  \n"
     ]
    }
   ],
   "source": [
    "# Display the first few rows to understand the structure\n",
    "print(df.head())"
   ]
  },
  {
   "cell_type": "code",
   "execution_count": 12,
   "metadata": {},
   "outputs": [
    {
     "name": "stdout",
     "output_type": "stream",
     "text": [
      "time     object\n",
      "temp    float64\n",
      "dwpt    float64\n",
      "rhum    float64\n",
      "prcp    float64\n",
      "snow    float64\n",
      "wdir    float64\n",
      "wspd    float64\n",
      "wpgt    float64\n",
      "pres    float64\n",
      "tsun    float64\n",
      "coco    float64\n",
      "dtype: object\n"
     ]
    }
   ],
   "source": [
    "# Check data types\n",
    "print(df.dtypes)"
   ]
  },
  {
   "cell_type": "code",
   "execution_count": 13,
   "metadata": {},
   "outputs": [
    {
     "name": "stdout",
     "output_type": "stream",
     "text": [
      "time        0\n",
      "temp    21364\n",
      "dwpt    21410\n",
      "rhum    21410\n",
      "prcp    43880\n",
      "snow    61368\n",
      "wdir    27397\n",
      "wspd    21546\n",
      "wpgt    61368\n",
      "pres    24655\n",
      "tsun    61368\n",
      "coco    54783\n",
      "dtype: int64\n"
     ]
    }
   ],
   "source": [
    "# Check for missing values\n",
    "print(df.isnull().sum())"
   ]
  },
  {
   "cell_type": "code",
   "execution_count": 14,
   "metadata": {},
   "outputs": [
    {
     "name": "stdout",
     "output_type": "stream",
     "text": [
      "               temp          dwpt          rhum          prcp  snow  \\\n",
      "count  40004.000000  39958.000000  39958.000000  17488.000000   0.0   \n",
      "mean      17.970388     10.731473     67.009660      0.108452   NaN   \n",
      "std        8.426305      6.121323     21.325558      0.573758   NaN   \n",
      "min       -5.000000    -15.100000      2.000000      0.000000   NaN   \n",
      "25%       12.000000      7.000000     50.000000      0.000000   NaN   \n",
      "50%       17.700000     11.100000     68.000000      0.000000   NaN   \n",
      "75%       24.000000     15.100000     87.000000      0.000000   NaN   \n",
      "max       40.000000     33.100000    100.000000     14.000000   NaN   \n",
      "\n",
      "               wdir          wspd  wpgt          pres  tsun         coco  \n",
      "count  33971.000000  39822.000000   0.0  36713.000000   0.0  6585.000000  \n",
      "mean     177.692679      9.762056   NaN   1015.607068   NaN     4.197570  \n",
      "std      111.841180      6.352612   NaN      8.364742   NaN     4.523564  \n",
      "min        0.000000      0.000000   NaN     97.000000   NaN     0.000000  \n",
      "25%       60.000000      5.400000   NaN   1012.000000   NaN     1.000000  \n",
      "50%      200.000000      7.900000   NaN   1015.000000   NaN     3.000000  \n",
      "75%      250.000000     13.000000   NaN   1019.200000   NaN     5.000000  \n",
      "max      360.000000     55.400000   NaN   1201.000000   NaN    26.000000  \n"
     ]
    }
   ],
   "source": [
    "# Basic statistics for numerical columns\n",
    "print(df.describe())"
   ]
  },
  {
   "cell_type": "markdown",
   "metadata": {},
   "source": [
    "## Exploring Weather Data for Spain:"
   ]
  },
  {
   "cell_type": "code",
   "execution_count": 15,
   "metadata": {},
   "outputs": [],
   "source": [
    "df = pd.read_csv(\"/workspace/COMP3610-Renewable-Energy-Prediction/data/raw/weather_data_spain.csv\")"
   ]
  },
  {
   "cell_type": "code",
   "execution_count": 16,
   "metadata": {},
   "outputs": [
    {
     "name": "stdout",
     "output_type": "stream",
     "text": [
      "<class 'pandas.core.frame.DataFrame'>\n",
      "RangeIndex: 61368 entries, 0 to 61367\n",
      "Data columns (total 12 columns):\n",
      " #   Column  Non-Null Count  Dtype  \n",
      "---  ------  --------------  -----  \n",
      " 0   time    61368 non-null  object \n",
      " 1   temp    61330 non-null  float64\n",
      " 2   dwpt    61330 non-null  float64\n",
      " 3   rhum    61330 non-null  float64\n",
      " 4   prcp    5268 non-null   float64\n",
      " 5   snow    4 non-null      float64\n",
      " 6   wdir    60856 non-null  float64\n",
      " 7   wspd    61358 non-null  float64\n",
      " 8   wpgt    20953 non-null  float64\n",
      " 9   pres    61318 non-null  float64\n",
      " 10  tsun    0 non-null      float64\n",
      " 11  coco    41251 non-null  float64\n",
      "dtypes: float64(11), object(1)\n",
      "memory usage: 5.6+ MB\n"
     ]
    }
   ],
   "source": [
    "# Basic information about the dataset\n",
    "df.info()"
   ]
  },
  {
   "cell_type": "code",
   "execution_count": 17,
   "metadata": {},
   "outputs": [
    {
     "name": "stdout",
     "output_type": "stream",
     "text": [
      "                  time  temp  dwpt  rhum  prcp  snow   wdir  wspd  wpgt  \\\n",
      "0  2016-01-01 00:00:00  11.4  10.6  95.0   NaN   NaN  350.0  11.2   NaN   \n",
      "1  2016-01-01 01:00:00  11.7  10.9  95.0   NaN   NaN  350.0   9.4   NaN   \n",
      "2  2016-01-01 02:00:00  11.5  10.7  95.0   NaN   NaN  340.0   7.6   NaN   \n",
      "3  2016-01-01 03:00:00  11.7  10.8  94.0   NaN   NaN  350.0  11.2   NaN   \n",
      "4  2016-01-01 04:00:00  11.8  10.9  94.0   NaN   NaN  360.0   7.6   NaN   \n",
      "\n",
      "     pres  tsun  coco  \n",
      "0  1025.2   NaN   NaN  \n",
      "1  1024.8   NaN   NaN  \n",
      "2  1024.8   NaN   NaN  \n",
      "3  1024.6   NaN   NaN  \n",
      "4  1024.4   NaN   NaN  \n"
     ]
    }
   ],
   "source": [
    "# Display the first few rows to understand the structure\n",
    "print(df.head())"
   ]
  },
  {
   "cell_type": "code",
   "execution_count": 18,
   "metadata": {},
   "outputs": [
    {
     "name": "stdout",
     "output_type": "stream",
     "text": [
      "time     object\n",
      "temp    float64\n",
      "dwpt    float64\n",
      "rhum    float64\n",
      "prcp    float64\n",
      "snow    float64\n",
      "wdir    float64\n",
      "wspd    float64\n",
      "wpgt    float64\n",
      "pres    float64\n",
      "tsun    float64\n",
      "coco    float64\n",
      "dtype: object\n"
     ]
    }
   ],
   "source": [
    "# Check data types\n",
    "print(df.dtypes)"
   ]
  },
  {
   "cell_type": "code",
   "execution_count": 19,
   "metadata": {},
   "outputs": [
    {
     "name": "stdout",
     "output_type": "stream",
     "text": [
      "time        0\n",
      "temp       38\n",
      "dwpt       38\n",
      "rhum       38\n",
      "prcp    56100\n",
      "snow    61364\n",
      "wdir      512\n",
      "wspd       10\n",
      "wpgt    40415\n",
      "pres       50\n",
      "tsun    61368\n",
      "coco    20117\n",
      "dtype: int64\n"
     ]
    }
   ],
   "source": [
    "# Check for missing values\n",
    "print(df.isnull().sum())"
   ]
  },
  {
   "cell_type": "code",
   "execution_count": 20,
   "metadata": {},
   "outputs": [
    {
     "name": "stdout",
     "output_type": "stream",
     "text": [
      "               temp          dwpt          rhum         prcp  snow  \\\n",
      "count  61330.000000  61330.000000  61330.000000  5268.000000   4.0   \n",
      "mean      17.807766     13.024968     75.716142     0.043451   0.0   \n",
      "std        6.441415      5.353516     16.001033     0.362931   0.0   \n",
      "min       -0.800000     -8.100000      1.000000     0.000000   0.0   \n",
      "25%       12.900000      9.200000     64.000000     0.000000   0.0   \n",
      "50%       17.100000     12.900000     78.000000     0.000000   0.0   \n",
      "75%       22.700000     17.100000     89.000000     0.000000   0.0   \n",
      "max       38.100000     28.300000    102.000000     9.100000   0.0   \n",
      "\n",
      "               wdir          wspd          wpgt          pres  tsun  \\\n",
      "count  60856.000000  61358.000000  20953.000000  61318.000000   0.0   \n",
      "mean     177.996089     15.753866     25.350332   1017.198129   NaN   \n",
      "std      114.601109      9.483777     10.752191      6.548100   NaN   \n",
      "min        0.000000      0.000000      7.400000    989.500000   NaN   \n",
      "25%       60.000000      9.400000     16.700000   1013.600000   NaN   \n",
      "50%      190.000000     13.000000     22.200000   1017.100000   NaN   \n",
      "75%      270.000000     20.500000     31.500000   1021.000000   NaN   \n",
      "max      360.000000     64.800000     79.600000   1037.800000   NaN   \n",
      "\n",
      "               coco  \n",
      "count  41251.000000  \n",
      "mean       2.834452  \n",
      "std        2.996962  \n",
      "min        0.000000  \n",
      "25%        2.000000  \n",
      "50%        2.000000  \n",
      "75%        3.000000  \n",
      "max       27.000000  \n"
     ]
    }
   ],
   "source": [
    "# Basic statistics for numerical columns\n",
    "print(df.describe())"
   ]
  }
 ],
 "metadata": {
  "kernelspec": {
   "display_name": "Python 3",
   "language": "python",
   "name": "python3"
  },
  "language_info": {
   "codemirror_mode": {
    "name": "ipython",
    "version": 3
   },
   "file_extension": ".py",
   "mimetype": "text/x-python",
   "name": "python",
   "nbconvert_exporter": "python",
   "pygments_lexer": "ipython3",
   "version": "3.12.9"
  }
 },
 "nbformat": 4,
 "nbformat_minor": 2
}
