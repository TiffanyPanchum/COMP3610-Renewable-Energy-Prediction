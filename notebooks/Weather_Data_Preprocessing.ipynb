{
 "cells": [
  {
   "cell_type": "code",
   "execution_count": 4,
   "metadata": {},
   "outputs": [],
   "source": [
    "import pandas as pd"
   ]
  },
  {
   "cell_type": "code",
   "execution_count": 5,
   "metadata": {},
   "outputs": [],
   "source": [
    "def clean_weather_data(file_path, country_name):\n",
    "    \"\"\"\n",
    "    Clean weather data by keeping only specified columns and handling missing values\n",
    "    \n",
    "    Args:\n",
    "        file_path (str): Path to the raw weather CSV file\n",
    "        country_name (str): Name of the country for the dataset\n",
    "        \n",
    "    Returns:\n",
    "        pd.DataFrame: Cleaned DataFrame\n",
    "    \"\"\"\n",
    "    # Load the raw data\n",
    "    df = pd.read_csv(file_path)\n",
    "    \n",
    "    # Select only the columns we want to keep\n",
    "    columns_to_keep = ['time', 'temp', 'dwpt', 'rhum', 'prcp', 'wspd', 'pres']\n",
    "    df = df[columns_to_keep].copy()\n",
    "    \n",
    "    # Convert time to datetime and set as index for time-based operations\n",
    "    df['time'] = pd.to_datetime(df['time'])\n",
    "    df = df.set_index('time')\n",
    "    \n",
    "    # Handle missing values for each column\n",
    "    # Temperature-related columns (time-based interpolation)\n",
    "    df[['temp', 'dwpt', 'rhum']] = df[['temp', 'dwpt', 'rhum']].interpolate(method='time')\n",
    "    \n",
    "    # Precipitation (fill missing with 0 assuming no rain when data is missing)\n",
    "    df['prcp'] = df['prcp'].fillna(0)\n",
    "    \n",
    "    # Wind speed (time-based interpolation)\n",
    "    df['wspd'] = df['wspd'].interpolate(method='time')\n",
    "    \n",
    "    # Pressure (time-based interpolation)\n",
    "    df['pres'] = df['pres'].interpolate(method='time')\n",
    "    \n",
    "    # For any remaining missing values (shouldn't be any after interpolation)\n",
    "    df = df.fillna(method='ffill').fillna(method='bfill')\n",
    "    \n",
    "    # Add country identifier\n",
    "    df['country'] = country_name\n",
    "    \n",
    "    # Reset index to make time a column again\n",
    "    df = df.reset_index()\n",
    "    \n",
    "    return df\n",
    "\n"
   ]
  },
  {
   "cell_type": "code",
   "execution_count": 6,
   "metadata": {},
   "outputs": [],
   "source": [
    "# File paths for each country\n",
    "weather_files = {\n",
    "    'France': '/workspace/COMP3610-Renewable-Energy-Prediction/data/raw/weather_data_france.csv',\n",
    "    'Italy': '/workspace/COMP3610-Renewable-Energy-Prediction/data/raw/weather_data_italy.csv',\n",
    "    'Spain': '/workspace/COMP3610-Renewable-Energy-Prediction/data/raw/weather_data_spain.csv'\n",
    "}\n",
    "\n"
   ]
  },
  {
   "cell_type": "code",
   "execution_count": 7,
   "metadata": {},
   "outputs": [
    {
     "name": "stdout",
     "output_type": "stream",
     "text": [
      "Cleaning France weather data...\n"
     ]
    },
    {
     "name": "stderr",
     "output_type": "stream",
     "text": [
      "/tmp/ipykernel_2790/1452447188.py:37: FutureWarning: DataFrame.fillna with 'method' is deprecated and will raise in a future version. Use obj.ffill() or obj.bfill() instead.\n",
      "  df = df.fillna(method='ffill').fillna(method='bfill')\n"
     ]
    },
    {
     "name": "stdout",
     "output_type": "stream",
     "text": [
      "Saved cleaned France data to /workspace/COMP3610-Renewable-Energy-Prediction/data/processed/weather_data_france_cleaned.csv\n",
      "Cleaning Italy weather data...\n"
     ]
    },
    {
     "name": "stderr",
     "output_type": "stream",
     "text": [
      "/tmp/ipykernel_2790/1452447188.py:37: FutureWarning: DataFrame.fillna with 'method' is deprecated and will raise in a future version. Use obj.ffill() or obj.bfill() instead.\n",
      "  df = df.fillna(method='ffill').fillna(method='bfill')\n"
     ]
    },
    {
     "name": "stdout",
     "output_type": "stream",
     "text": [
      "Saved cleaned Italy data to /workspace/COMP3610-Renewable-Energy-Prediction/data/processed/weather_data_italy_cleaned.csv\n",
      "Cleaning Spain weather data...\n"
     ]
    },
    {
     "name": "stderr",
     "output_type": "stream",
     "text": [
      "/tmp/ipykernel_2790/1452447188.py:37: FutureWarning: DataFrame.fillna with 'method' is deprecated and will raise in a future version. Use obj.ffill() or obj.bfill() instead.\n",
      "  df = df.fillna(method='ffill').fillna(method='bfill')\n"
     ]
    },
    {
     "name": "stdout",
     "output_type": "stream",
     "text": [
      "Saved cleaned Spain data to /workspace/COMP3610-Renewable-Energy-Prediction/data/processed/weather_data_spain_cleaned.csv\n"
     ]
    }
   ],
   "source": [
    "# Process all countries\n",
    "cleaned_datasets = {}\n",
    "for country, file_path in weather_files.items():\n",
    "    print(f\"Cleaning {country} weather data...\")\n",
    "    cleaned_df = clean_weather_data(file_path, country)\n",
    "    cleaned_datasets[country] = cleaned_df\n",
    "    \n",
    "    # Save cleaned data\n",
    "    output_path = f'/workspace/COMP3610-Renewable-Energy-Prediction/data/processed/weather_data_{country.lower()}_cleaned.csv'\n",
    "    cleaned_df.to_csv(output_path, index=False)\n",
    "    print(f\"Saved cleaned {country} data to {output_path}\")\n",
    "\n"
   ]
  },
  {
   "cell_type": "code",
   "execution_count": 8,
   "metadata": {},
   "outputs": [
    {
     "name": "stdout",
     "output_type": "stream",
     "text": [
      "\n",
      "Cleaning complete! Final combined dataset saved to: /workspace/COMP3610-Renewable-Energy-Prediction/data/processed/weather_data_all_countries_cleaned.csv\n"
     ]
    }
   ],
   "source": [
    "# Combine all countries\n",
    "combined_weather = pd.concat(cleaned_datasets.values())\n",
    "combined_output_path = '/workspace/COMP3610-Renewable-Energy-Prediction/data/processed/weather_data_all_countries_cleaned.csv'\n",
    "combined_weather.to_csv(combined_output_path, index=False)\n",
    "\n",
    "print(\"\\nCleaning complete! Final combined dataset saved to:\", combined_output_path)"
   ]
  }
 ],
 "metadata": {
  "kernelspec": {
   "display_name": "Python 3",
   "language": "python",
   "name": "python3"
  },
  "language_info": {
   "codemirror_mode": {
    "name": "ipython",
    "version": 3
   },
   "file_extension": ".py",
   "mimetype": "text/x-python",
   "name": "python",
   "nbconvert_exporter": "python",
   "pygments_lexer": "ipython3",
   "version": "3.12.9"
  }
 },
 "nbformat": 4,
 "nbformat_minor": 2
}
