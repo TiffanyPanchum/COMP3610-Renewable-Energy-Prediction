{
 "cells": [
  {
   "cell_type": "code",
   "execution_count": 16,
   "metadata": {},
   "outputs": [],
   "source": [
    "import pandas as pd\n",
    "import requests\n",
    "import time\n",
    "from datetime import datetime\n",
    "import os"
   ]
  },
  {
   "cell_type": "code",
   "execution_count": 17,
   "metadata": {},
   "outputs": [],
   "source": [
    "# Configuration\n",
    "API_KEY = \"51a1a1385amsh8a2062112967694p11c6c0jsncc63f327d026\"\n",
    "BASE_URL = \"https://meteostat.p.rapidapi.com/point/monthly\"\n",
    "HEADERS = {\n",
    "    \"X-RapidAPI-Key\": API_KEY,\n",
    "    \"X-RapidAPI-Host\": \"meteostat.p.rapidapi.com\"\n",
    "}"
   ]
  },
  {
   "cell_type": "code",
   "execution_count": 18,
   "metadata": {},
   "outputs": [],
   "source": [
    "# Coordinates for each country (example - adjust as needed)\n",
    "LOCATIONS = {\n",
    "    'France': {'lat': 46.2276, 'lon': 2.2137},\n",
    "    'Italy': {'lat': 41.8719, 'lon': 12.5674},\n",
    "    'Spain': {'lat': 40.4637, 'lon': -3.7492}\n",
    "}"
   ]
  },
  {
   "cell_type": "code",
   "execution_count": 19,
   "metadata": {},
   "outputs": [],
   "source": [
    "def fetch_weather_chunk(lat, lon, start, end):\n",
    "    \"\"\"Fetch one month of hourly data with error handling\"\"\"\n",
    "    params = {\n",
    "        \"lat\": lat,\n",
    "        \"lon\": lon,\n",
    "        \"start\": start,\n",
    "        \"end\": end,\n",
    "        \"tz\": \"UTC\",\n",
    "        \"model\": \"true\"  # Fill missing with modeled data\n",
    "    }\n",
    "    \n",
    "    try:\n",
    "        response = requests.get(BASE_URL, headers=HEADERS, params=params)\n",
    "        response.raise_for_status()\n",
    "        data = response.json()\n",
    "        return pd.DataFrame(data.get(\"data\", []))\n",
    "    except Exception as e:\n",
    "        print(f\"Failed {start} to {end}: {str(e)}\")\n",
    "        return pd.DataFrame()\n",
    "\n"
   ]
  },
  {
   "cell_type": "code",
   "execution_count": 20,
   "metadata": {},
   "outputs": [],
   "source": [
    "def fetch_country_weather(country, lat, lon, start_year, end_year):\n",
    "    \"\"\"Fetch all years for one country\"\"\"\n",
    "    all_data = []\n",
    "    current_date = datetime(start_year, 1, 1)\n",
    "    end_date = datetime(end_year, 12, 31, 23)\n",
    "    \n",
    "    while current_date <= end_date:\n",
    "        chunk_end = min(current_date + timedelta(days=30), end_date)\n",
    "        \n",
    "        chunk = fetch_weather_chunk(\n",
    "            lat, lon,\n",
    "            current_date.strftime(\"%Y-%m-%d\"),\n",
    "            chunk_end.strftime(\"%Y-%m-%d\")\n",
    "        )\n",
    "        \n",
    "        if not chunk.empty:\n",
    "            all_data.append(chunk)\n",
    "            print(f\"{country}: {current_date.date()} to {chunk_end.date()}\")\n",
    "        else:\n",
    "            print(f\"{country}: Failed {current_date.date()}\")\n",
    "        \n",
    "        current_date = chunk_end + timedelta(days=1)\n",
    "        time.sleep(1.2)  # Stay under API rate limits\n",
    "    \n",
    "    if all_data:\n",
    "        df = pd.concat(all_data)\n",
    "        # Keep only essential columns if they exist\n",
    "        cols_to_keep = []\n",
    "        if 'time' in df.columns:\n",
    "            cols_to_keep.append('time')\n",
    "        if 'temp' in df.columns:\n",
    "            cols_to_keep.append('temp')\n",
    "        if 'rhum' in df.columns:\n",
    "            cols_to_keep.append('rhum')\n",
    "        if 'tsun' in df.columns:\n",
    "            cols_to_keep.append('tsun')\n",
    "        \n",
    "        return df[cols_to_keep] if cols_to_keep else pd.DataFrame()\n",
    "    return pd.DataFrame()\n",
    "\n"
   ]
  },
  {
   "cell_type": "code",
   "execution_count": 21,
   "metadata": {},
   "outputs": [],
   "source": [
    "# --- Execution ---\n",
    "def main():\n",
    "    os.makedirs(\"../data/raw/weather\", exist_ok=True)\n",
    "    \n",
    "    for country, coords in COUNTRIES.items():\n",
    "        print(f\"\\n🌍 Fetching {country} (2016-2022)...\")\n",
    "        df = fetch_country_weather(\n",
    "            country=country,\n",
    "            lat=coords[\"lat\"],\n",
    "            lon=coords[\"lon\"],\n",
    "            start_year=2016,\n",
    "            end_year=2022\n",
    "        )\n",
    "        \n",
    "        if not df.empty:\n",
    "            # Rename columns\n",
    "            column_map = {\n",
    "                'time': 'datetime',\n",
    "                'temp': 'temperature_c',\n",
    "                'rhum': 'humidity_pct',\n",
    "                'tsun': 'solar_radiation_min'\n",
    "            }\n",
    "            df = df.rename(columns={k: v for k, v in column_map.items() if k in df.columns})\n",
    "            \n",
    "            # Add country column\n",
    "            df['country'] = country\n",
    "            \n",
    "            # Save raw data\n",
    "            raw_path = f\"../data/raw/weather/{country}_hourly_weather_2016_2022.csv\"\n",
    "            df.to_csv(raw_path, index=False)\n",
    "            print(f\"Saved {len(df)} records to {raw_path}\")\n",
    "            print(\"Columns saved:\", df.columns.tolist())\n",
    "        else:\n",
    "            print(f\"No data saved for {country}!\")"
   ]
  },
  {
   "cell_type": "code",
   "execution_count": 22,
   "metadata": {},
   "outputs": [
    {
     "ename": "NameError",
     "evalue": "name 'COUNTRIES' is not defined",
     "output_type": "error",
     "traceback": [
      "\u001b[0;31m---------------------------------------------------------------------------\u001b[0m",
      "\u001b[0;31mNameError\u001b[0m                                 Traceback (most recent call last)",
      "Cell \u001b[0;32mIn[22], line 2\u001b[0m\n\u001b[1;32m      1\u001b[0m \u001b[38;5;28;01mif\u001b[39;00m \u001b[38;5;18m__name__\u001b[39m \u001b[38;5;241m==\u001b[39m \u001b[38;5;124m\"\u001b[39m\u001b[38;5;124m__main__\u001b[39m\u001b[38;5;124m\"\u001b[39m:\n\u001b[0;32m----> 2\u001b[0m     \u001b[43mmain\u001b[49m\u001b[43m(\u001b[49m\u001b[43m)\u001b[49m\n",
      "Cell \u001b[0;32mIn[21], line 5\u001b[0m, in \u001b[0;36mmain\u001b[0;34m()\u001b[0m\n\u001b[1;32m      2\u001b[0m \u001b[38;5;28;01mdef\u001b[39;00m\u001b[38;5;250m \u001b[39m\u001b[38;5;21mmain\u001b[39m():\n\u001b[1;32m      3\u001b[0m     os\u001b[38;5;241m.\u001b[39mmakedirs(\u001b[38;5;124m\"\u001b[39m\u001b[38;5;124m../data/raw/weather\u001b[39m\u001b[38;5;124m\"\u001b[39m, exist_ok\u001b[38;5;241m=\u001b[39m\u001b[38;5;28;01mTrue\u001b[39;00m)\n\u001b[0;32m----> 5\u001b[0m     \u001b[38;5;28;01mfor\u001b[39;00m country, coords \u001b[38;5;129;01min\u001b[39;00m \u001b[43mCOUNTRIES\u001b[49m\u001b[38;5;241m.\u001b[39mitems():\n\u001b[1;32m      6\u001b[0m         \u001b[38;5;28mprint\u001b[39m(\u001b[38;5;124mf\u001b[39m\u001b[38;5;124m\"\u001b[39m\u001b[38;5;130;01m\\n\u001b[39;00m\u001b[38;5;124m🌍 Fetching \u001b[39m\u001b[38;5;132;01m{\u001b[39;00mcountry\u001b[38;5;132;01m}\u001b[39;00m\u001b[38;5;124m (2016-2022)...\u001b[39m\u001b[38;5;124m\"\u001b[39m)\n\u001b[1;32m      7\u001b[0m         df \u001b[38;5;241m=\u001b[39m fetch_country_weather(\n\u001b[1;32m      8\u001b[0m             country\u001b[38;5;241m=\u001b[39mcountry,\n\u001b[1;32m      9\u001b[0m             lat\u001b[38;5;241m=\u001b[39mcoords[\u001b[38;5;124m\"\u001b[39m\u001b[38;5;124mlat\u001b[39m\u001b[38;5;124m\"\u001b[39m],\n\u001b[0;32m   (...)\u001b[0m\n\u001b[1;32m     12\u001b[0m             end_year\u001b[38;5;241m=\u001b[39m\u001b[38;5;241m2022\u001b[39m\n\u001b[1;32m     13\u001b[0m         )\n",
      "\u001b[0;31mNameError\u001b[0m: name 'COUNTRIES' is not defined"
     ]
    }
   ],
   "source": [
    "if __name__ == \"__main__\":\n",
    "    main()"
   ]
  }
 ],
 "metadata": {
  "kernelspec": {
   "display_name": "Python 3",
   "language": "python",
   "name": "python3"
  },
  "language_info": {
   "codemirror_mode": {
    "name": "ipython",
    "version": 3
   },
   "file_extension": ".py",
   "mimetype": "text/x-python",
   "name": "python",
   "nbconvert_exporter": "python",
   "pygments_lexer": "ipython3",
   "version": "3.12.9"
  }
 },
 "nbformat": 4,
 "nbformat_minor": 2
}
